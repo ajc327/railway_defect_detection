{
 "cells": [
  {
   "cell_type": "markdown",
   "metadata": {},
   "source": [
    "# Need for an evaluation framework  07/12/2020\n",
    "\n",
    "\n",
    "## Feature extraction methods \n",
    "So far, I have explored the use of different feature and their uses for extracting features which are best suited to a railway defect detector. The features are as follows: \n",
    "\n",
    "1. Hand crafted audio features such as zero crossing rate, frequency band amplitude ratio, spectral densities etc. These require the use of expert knowledge to exploit characteristics of certain sounds. For example: during speech the zero crossing rate is high. Female and male voices have different frequency band ratios. However, with a noise with very much unknown properties, this may fall short. It is possible to use James' model as a source of this expert knowledge.\n",
    "2. Principle component analysis for anomaly detection. The idea of this is that becuase we do not know the properties of these features, we can learn them automatically using a method like PCA. This creates a linear combination of the input elements and sees if it can find a combination to best explain the variance. This method could be more effective against a feature which does display a large departure from normal noise. However, it falls very much short when another non-defective feature is present with larger differences compared to the defect feature. In this case, the defect feature (with a much lower signal to noise ratio) becomes completely invisible in the first principle components. \n",
    "3. Deep features. Deep neural networks are known to be able to extract high dimensional, non-linear features as they have non-linear activation functions. This means we can find characteristics of faults which is not just a simple linear combination of inputs. Usually supervised learning is conducted. However, due to the lack of data, there is incentive to explore the use of deep neural networks to **generate faulty signals** and **reduce dimensions**. The state of art for this application is an autoencoder, which attempts to reduce dimensions of a signal and reconstruct it. \n",
    "\n",
    "\n",
    "## Method of evaluation \n",
    "To evaluate how these feature extraction methods perfrom, it is necessary to create an evaluation framework. This needs to have some sample data to evaluate the differrent methods on, and a metric to determine performance. \n",
    "\n",
    "Usually, this is done using labelled data of existing faults. However, in this case a lack of data prompts the generation of a **Synthetic testing dataset**. Once constructed, this will be the first of a synthetic dataset with simulated defect noises from wheel-track interraction noise. I propose to design a system which randomly introduces a few different types of anomalous sounds into train noise clips. The following anomalous sounds are considered:\n",
    "\n",
    "1. Thumping noises (short time features) of various kind e.g item dropping, door closing\n",
    "2. Increasing the amplitude of frequency components indicated by James' model, scaled by his predicted amplitudes. These will be in blobs. \n",
    "3. Screeching noises.\n",
    "\n",
    "The locations of these items will be documented, so that an objective comparison can be done on this same dataset. This should have around 1000 clips. \n",
    "\n",
    "To introduce randomness of these sounds, a variational autoencoder can be used to sample from the distributions of these sounds. \n",
    "The background noise can also be sampled from the variational autoencoder once it is trained on background noise. \n",
    "\n",
    "\n",
    "## What I have done this week \n",
    "\n",
    "1. Read more literature on the state of art regarding PCA feature detection, as well as deep feature extraction. Arrived at some conclusions shown above. \n",
    "2. Identified deep features to have the most potential for railway detection purpose. This is because PCA and hand crafted features are too general and will fail to capture a defect, as normal features such as joints are much more significant may contribute much more to the variance and mask fault features. \n",
    "3. Identified the necessity to generate synthetic fault data for meaningful model evaluation. This could be integral for some deep neural network methods and will also be hugely useful for future work in this field.\n",
    "4. Developed an idea with an advanced auto-encoder network architecture which maximises the reconstruction difference between a noise sample and fault sample. \n",
    "5. Started learning deep neural network implementation."
   ]
  },
  {
   "cell_type": "code",
   "execution_count": null,
   "metadata": {},
   "outputs": [],
   "source": []
  }
 ],
 "metadata": {
  "kernelspec": {
   "display_name": "Python 3",
   "language": "python",
   "name": "python3"
  },
  "language_info": {
   "codemirror_mode": {
    "name": "ipython",
    "version": 3
   },
   "file_extension": ".py",
   "mimetype": "text/x-python",
   "name": "python",
   "nbconvert_exporter": "python",
   "pygments_lexer": "ipython3",
   "version": "3.6.6"
  }
 },
 "nbformat": 4,
 "nbformat_minor": 2
}
