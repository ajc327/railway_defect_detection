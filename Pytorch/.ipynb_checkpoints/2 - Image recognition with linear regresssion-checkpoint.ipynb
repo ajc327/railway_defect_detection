{
 "cells": [
  {
   "cell_type": "code",
   "execution_count": 10,
   "metadata": {},
   "outputs": [],
   "source": [
    "import torch \n",
    "import torchvision \n",
    "from torchvision.datasets import MNIST \n",
    "import matplotlib.pyplot as plt \n",
    "%matplotlib inline"
   ]
  },
  {
   "cell_type": "code",
   "execution_count": 6,
   "metadata": {},
   "outputs": [],
   "source": [
    "# Download the training dataset \n",
    "dataset = MNIST(root= 'Mdata/', download = True)\n",
    "test_dataset = MNIST(root= 'Mdata/', train = False)"
   ]
  },
  {
   "cell_type": "code",
   "execution_count": 4,
   "metadata": {},
   "outputs": [
    {
     "data": {
      "text/plain": [
       "60000"
      ]
     },
     "execution_count": 4,
     "metadata": {},
     "output_type": "execute_result"
    }
   ],
   "source": [
    "len(dataset)"
   ]
  },
  {
   "cell_type": "code",
   "execution_count": 11,
   "metadata": {},
   "outputs": [
    {
     "name": "stdout",
     "output_type": "stream",
     "text": [
      "label: 5\n"
     ]
    },
    {
     "data": {
      "image/png": "[encoded data removed]",
      "text/plain": [
       "<Figure size 432x288 with 1 Axes>"
      ]
     },
     "metadata": {},
     "output_type": "display_data"
    }
   ],
   "source": [
    "image, label = dataset[0]\n",
    "plt.imshow(image, cmap = \"gray\")\n",
    "print('label:', label)"
   ]
  },
  {
   "cell_type": "markdown",
   "metadata": {},
   "source": [
    "## We need to transfrom images into tensors \n"
   ]
  },
  {
   "cell_type": "code",
   "execution_count": 13,
   "metadata": {},
   "outputs": [
    {
     "name": "stdout",
     "output_type": "stream",
     "text": [
      "torch.Size([1, 28, 28]) 5\n"
     ]
    }
   ],
   "source": [
    "import torchvision.transforms as transforms\n",
    "dataset = MNIST(root ='Mdata/', train = True, transform=transforms.ToTensor())\n",
    "image, label = dataset[0]\n",
    "print(image.shape,label)"
   ]
  },
  {
   "cell_type": "code",
   "execution_count": 14,
   "metadata": {},
   "outputs": [
    {
     "data": {
      "text/plain": [
       "<matplotlib.image.AxesImage at 0x295102fb0f0>"
      ]
     },
     "execution_count": 14,
     "metadata": {},
     "output_type": "execute_result"
    },
    {
     "data": {
      "image/png": "[encoded data removed]",
      "text/plain": [
       "<Figure size 432x288 with 1 Axes>"
      ]
     },
     "metadata": {},
     "output_type": "display_data"
    }
   ],
   "source": [
    "plt.imshow(image[0,:,:])"
   ]
  },
  {
   "cell_type": "code",
   "execution_count": 18,
   "metadata": {},
   "outputs": [],
   "source": [
    "import numpy as np \n",
    "\n",
    "def split_indices(n, val_pct):\n",
    "    n_val = int(val_pct*n)\n",
    "    indxs = np.random.permutation(n)\n",
    "    \n",
    "    return indxs[n_val:], indxs[:n_val]"
   ]
  },
  {
   "cell_type": "code",
   "execution_count": 25,
   "metadata": {},
   "outputs": [
    {
     "name": "stdout",
     "output_type": "stream",
     "text": [
      "48000 12000\n"
     ]
    }
   ],
   "source": [
    "train_indx, val_indx = split_indices(len(dataset),val_pct = 0.2)\n",
    "print(len(train_indx), len(val_indx))"
   ]
  },
  {
   "cell_type": "code",
   "execution_count": 22,
   "metadata": {},
   "outputs": [],
   "source": [
    "from torch.utils.data.sampler import SubsetRandomSampler\n",
    "from torch.utils.data.dataloader import DataLoader"
   ]
  },
  {
   "cell_type": "code",
   "execution_count": 27,
   "metadata": {},
   "outputs": [],
   "source": [
    "batch_size = 100 \n",
    "# This is saying, when we sample from the dataset, we only consider samples in the train_indices list\n",
    "train_sampler = SubsetRandomSampler(train_indx)\n",
    "train_loader = DataLoader(dataset,\n",
    "                         batch_size,\n",
    "                         sampler = train_sampler)\n",
    "\n",
    "# validation sampler and data loader \n",
    "val_sampler = SubsetRandomSampler(val_indx)\n",
    "val_loader = DataLoader(dataset,\n",
    "                       batch_size,\n",
    "                       sampler= val_sampler)"
   ]
  },
  {
   "cell_type": "code",
   "execution_count": 30,
   "metadata": {},
   "outputs": [],
   "source": [
    "import torch.nn as nn \n",
    "input_size = 28*28\n",
    "num_classes = 10 \n",
    "\n",
    "# model for logistic regression \n",
    "model = nn.Linear(input_size, num_classes)"
   ]
  },
  {
   "cell_type": "code",
   "execution_count": 32,
   "metadata": {},
   "outputs": [
    {
     "name": "stdout",
     "output_type": "stream",
     "text": [
      "torch.Size([10, 784])\n"
     ]
    }
   ],
   "source": [
    "print(model.weight.shape)"
   ]
  },
  {
   "cell_type": "code",
   "execution_count": 35,
   "metadata": {},
   "outputs": [
    {
     "name": "stdout",
     "output_type": "stream",
     "text": [
      "tensor([3, 0, 7, 1, 3, 6, 3, 5, 8, 9, 1, 0, 7, 1, 1, 7, 7, 5, 6, 2, 1, 4, 2, 6,\n",
      "        4, 0, 2, 9, 7, 6, 9, 4, 7, 4, 8, 6, 0, 1, 3, 1, 4, 8, 5, 2, 8, 8, 2, 6,\n",
      "        2, 8, 5, 3, 7, 6, 9, 9, 0, 0, 1, 9, 6, 4, 0, 7, 9, 3, 7, 9, 9, 9, 9, 3,\n",
      "        4, 5, 6, 0, 2, 9, 2, 3, 2, 4, 0, 5, 0, 8, 8, 9, 1, 1, 0, 2, 1, 6, 2, 8,\n",
      "        3, 4, 7, 9])\n",
      "torch.Size([100, 1, 28, 28])\n"
     ]
    }
   ],
   "source": [
    "for images, labels in train_loader:\n",
    "    print(labels)\n",
    "    print(images.shape)\n",
    "    #outputs=model(images)\n",
    "    break"
   ]
  },
  {
   "cell_type": "markdown",
   "metadata": {},
   "source": [
    "Here we extend the nn.Module class. We do inheritence by `super().__init__()`\n",
    " "
   ]
  },
  {
   "cell_type": "code",
   "execution_count": 38,
   "metadata": {},
   "outputs": [],
   "source": [
    "class MnistModel(nn.Module):\n",
    "    def __init__(self):\n",
    "        super().__init__()\n",
    "        self.linear = nn.Linear(input_size,num_classes)\n",
    "    def forward(self,xb):\n",
    "        xb = xb.reshape(-1,28*28)\n",
    "        out = self.linear(xb)\n",
    "        return out \n",
    "    \n",
    "model = MnistModel()\n",
    "        "
   ]
  },
  {
   "cell_type": "code",
   "execution_count": 42,
   "metadata": {},
   "outputs": [
    {
     "data": {
      "text/plain": [
       "[Parameter containing:\n",
       " tensor([[-2.4818e-03,  7.8921e-03, -2.7980e-02,  ..., -2.0131e-02,\n",
       "          -3.1470e-03, -1.0659e-02],\n",
       "         [ 2.5575e-02,  1.1099e-02, -1.9002e-02,  ...,  5.7522e-03,\n",
       "           2.2052e-02, -4.4761e-04],\n",
       "         [-4.8093e-03, -1.5878e-02, -3.0081e-02,  ...,  1.0326e-02,\n",
       "           6.6023e-03,  3.2794e-02],\n",
       "         ...,\n",
       "         [-2.6500e-02,  2.1780e-02,  3.4397e-02,  ..., -1.7543e-02,\n",
       "          -2.2468e-02,  8.5278e-03],\n",
       "         [ 1.8230e-02, -1.9977e-02,  3.1135e-02,  ..., -1.6863e-02,\n",
       "          -5.4268e-03, -1.4117e-02],\n",
       "         [ 1.2497e-02,  1.2842e-02,  6.9000e-05,  ...,  3.0332e-03,\n",
       "           4.1403e-03,  9.1214e-03]], requires_grad=True),\n",
       " Parameter containing:\n",
       " tensor([ 0.0185, -0.0166,  0.0289, -0.0322, -0.0181, -0.0231, -0.0277,  0.0333,\n",
       "          0.0225,  0.0029], requires_grad=True)]"
      ]
     },
     "execution_count": 42,
     "metadata": {},
     "output_type": "execute_result"
    }
   ],
   "source": [
    "list(model.parameters())"
   ]
  },
  {
   "cell_type": "code",
   "execution_count": 44,
   "metadata": {},
   "outputs": [
    {
     "name": "stdout",
     "output_type": "stream",
     "text": [
      "tensor([1, 5, 9, 5, 9, 4, 1, 1, 8, 9, 3, 2, 0, 2, 2, 7, 8, 6, 9, 3, 1, 5, 8, 0,\n",
      "        0, 9, 1, 5, 1, 0, 3, 3, 3, 1, 4, 0, 7, 3, 0, 3, 2, 3, 8, 1, 6, 1, 1, 1,\n",
      "        1, 1, 1, 1, 3, 2, 3, 2, 6, 2, 2, 0, 7, 5, 8, 1, 3, 3, 9, 4, 9, 7, 4, 3,\n",
      "        7, 6, 3, 2, 7, 9, 5, 2, 2, 6, 8, 1, 7, 7, 8, 1, 2, 5, 0, 5, 0, 0, 3, 7,\n",
      "        6, 8, 9, 9])\n"
     ]
    }
   ],
   "source": [
    "\n",
    "for images, labels in train_loader: \n",
    "    print(labels)\n",
    "    outputs= model(images)\n",
    "    break"
   ]
  },
  {
   "cell_type": "code",
   "execution_count": 49,
   "metadata": {},
   "outputs": [
    {
     "name": "stdout",
     "output_type": "stream",
     "text": [
      "torch.Size([100, 10])\n"
     ]
    }
   ],
   "source": [
    "print(outputs.shape)\n"
   ]
  },
  {
   "cell_type": "code",
   "execution_count": 53,
   "metadata": {},
   "outputs": [
    {
     "name": "stdout",
     "output_type": "stream",
     "text": [
      "tensor([0.1039, 0.0952, 0.0992, 0.0978, 0.1003, 0.0963, 0.1143, 0.0979, 0.0912,\n",
      "        0.1039], grad_fn=<SelectBackward>)\n",
      "tensor([6, 6, 5, 5, 7, 6, 5, 5, 6, 4, 2, 5, 9, 6, 9, 9, 6, 9, 6, 9, 9, 6, 6, 2,\n",
      "        8, 5, 9, 6, 5, 9, 9, 5, 6, 5, 3, 2, 5, 6, 5, 2, 1, 6, 6, 6, 9, 6, 6, 7,\n",
      "        7, 9, 7, 9, 6, 5, 6, 5, 9, 5, 5, 9, 5, 4, 6, 6, 9, 6, 9, 5, 5, 5, 6, 9,\n",
      "        5, 9, 5, 5, 7, 5, 5, 5, 9, 9, 6, 2, 6, 6, 5, 6, 5, 5, 9, 6, 9, 9, 2, 5,\n",
      "        9, 5, 5, 6])\n"
     ]
    }
   ],
   "source": [
    "# We need to pass each output to a softmax. The predictions are clearly very shit right now, because we have not trained anything...\n",
    "\n",
    "import torch.nn.functional as F\n",
    "probs = F.softmax(outputs, dim=1)\n",
    "print(probs[0])\n",
    "max_probs, preds = torch.max(probs, dim = 1)\n",
    "print(preds)"
   ]
  },
  {
   "cell_type": "code",
   "execution_count": null,
   "metadata": {},
   "outputs": [],
   "source": []
  }
 ],
 "metadata": {
  "kernelspec": {
   "display_name": "Python 3",
   "language": "python",
   "name": "python3"
  },
  "language_info": {
   "codemirror_mode": {
    "name": "ipython",
    "version": 3
   },
   "file_extension": ".py",
   "mimetype": "text/x-python",
   "name": "python",
   "nbconvert_exporter": "python",
   "pygments_lexer": "ipython3",
   "version": "3.6.6"
  }
 },
 "nbformat": 4,
 "nbformat_minor": 2
}
