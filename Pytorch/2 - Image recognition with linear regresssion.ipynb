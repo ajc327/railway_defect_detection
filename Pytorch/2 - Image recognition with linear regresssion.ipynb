{
 "cells": [
  {
   "cell_type": "code",
   "execution_count": 10,
   "metadata": {},
   "outputs": [],
   "source": [
    "import torch \n",
    "import torchvision \n",
    "from torchvision.datasets import MNIST \n",
    "import matplotlib.pyplot as plt \n",
    "%matplotlib inline"
   ]
  },
  {
   "cell_type": "code",
   "execution_count": 6,
   "metadata": {},
   "outputs": [],
   "source": [
    "# Download the training dataset \n",
    "dataset = MNIST(root= 'Mdata/', download = True)\n",
    "test_dataset = MNIST(root= 'Mdata/', train = False)"
   ]
  },
  {
   "cell_type": "code",
   "execution_count": 4,
   "metadata": {},
   "outputs": [
    {
     "data": {
      "text/plain": [
       "60000"
      ]
     },
     "execution_count": 4,
     "metadata": {},
     "output_type": "execute_result"
    }
   ],
   "source": [
    "len(dataset)"
   ]
  },
  {
   "cell_type": "code",
   "execution_count": 11,
   "metadata": {},
   "outputs": [
    {
     "name": "stdout",
     "output_type": "stream",
     "text": [
      "label: 5\n"
     ]
    },
    {
     "data": {
      "image/png": "[encoded data removed]",
      "text/plain": [
       "<Figure size 432x288 with 1 Axes>"
      ]
     },
     "metadata": {},
     "output_type": "display_data"
    }
   ],
   "source": [
    "image, label = dataset[0]\n",
    "plt.imshow(image, cmap = \"gray\")\n",
    "print('label:', label)"
   ]
  },
  {
   "cell_type": "markdown",
   "metadata": {},
   "source": [
    "## We need to transfrom images into tensors \n"
   ]
  },
  {
   "cell_type": "code",
   "execution_count": 13,
   "metadata": {},
   "outputs": [
    {
     "name": "stdout",
     "output_type": "stream",
     "text": [
      "torch.Size([1, 28, 28]) 5\n"
     ]
    }
   ],
   "source": [
    "import torchvision.transforms as transforms\n",
    "dataset = MNIST(root ='Mdata/', train = True, transform=transforms.ToTensor())\n",
    "image, label = dataset[0]\n",
    "print(image.shape,label)"
   ]
  },
  {
   "cell_type": "code",
   "execution_count": 14,
   "metadata": {},
   "outputs": [
    {
     "data": {
      "text/plain": [
       "<matplotlib.image.AxesImage at 0x295102fb0f0>"
      ]
     },
     "execution_count": 14,
     "metadata": {},
     "output_type": "execute_result"
    },
    {
     "data": {
      "image/png": "[encoded data removed]",
      "text/plain": [
       "<Figure size 432x288 with 1 Axes>"
      ]
     },
     "metadata": {},
     "output_type": "display_data"
    }
   ],
   "source": [
    "plt.imshow(image[0,:,:])"
   ]
  },
  {
   "cell_type": "code",
   "execution_count": 18,
   "metadata": {},
   "outputs": [],
   "source": [
    "import numpy as np \n",
    "\n",
    "def split_indices(n, val_pct):\n",
    "    n_val = int(val_pct*n)\n",
    "    indxs = np.random.permutation(n)\n",
    "    \n",
    "    return indxs[n_val:], indxs[:n_val]"
   ]
  },
  {
   "cell_type": "code",
   "execution_count": 25,
   "metadata": {},
   "outputs": [
    {
     "name": "stdout",
     "output_type": "stream",
     "text": [
      "48000 12000\n"
     ]
    }
   ],
   "source": [
    "train_indx, val_indx = split_indices(len(dataset),val_pct = 0.2)\n",
    "print(len(train_indx), len(val_indx))"
   ]
  },
  {
   "cell_type": "code",
   "execution_count": 22,
   "metadata": {},
   "outputs": [],
   "source": [
    "from torch.utils.data.sampler import SubsetRandomSampler\n",
    "from torch.utils.data.dataloader import DataLoader"
   ]
  },
  {
   "cell_type": "code",
   "execution_count": 27,
   "metadata": {},
   "outputs": [],
   "source": [
    "batch_size = 100 \n",
    "# This is saying, when we sample from the dataset, we only consider samples in the train_indices list\n",
    "train_sampler = SubsetRandomSampler(train_indx)\n",
    "train_loader = DataLoader(dataset,\n",
    "                         batch_size,\n",
    "                         sampler = train_sampler)\n",
    "\n",
    "# validation sampler and data loader \n",
    "val_sampler = SubsetRandomSampler(val_indx)\n",
    "val_loader = DataLoader(dataset,\n",
    "                       batch_size,\n",
    "                       sampler= val_sampler)"
   ]
  },
  {
   "cell_type": "code",
   "execution_count": 30,
   "metadata": {},
   "outputs": [],
   "source": [
    "import torch.nn as nn \n",
    "input_size = 28*28\n",
    "num_classes = 10 \n",
    "\n",
    "# model for logistic regression \n",
    "model = nn.Linear(input_size, num_classes)"
   ]
  },
  {
   "cell_type": "code",
   "execution_count": 32,
   "metadata": {},
   "outputs": [
    {
     "name": "stdout",
     "output_type": "stream",
     "text": [
      "torch.Size([10, 784])\n"
     ]
    }
   ],
   "source": [
    "print(model.weight.shape)"
   ]
  },
  {
   "cell_type": "code",
   "execution_count": 35,
   "metadata": {},
   "outputs": [
    {
     "name": "stdout",
     "output_type": "stream",
     "text": [
      "tensor([3, 0, 7, 1, 3, 6, 3, 5, 8, 9, 1, 0, 7, 1, 1, 7, 7, 5, 6, 2, 1, 4, 2, 6,\n",
      "        4, 0, 2, 9, 7, 6, 9, 4, 7, 4, 8, 6, 0, 1, 3, 1, 4, 8, 5, 2, 8, 8, 2, 6,\n",
      "        2, 8, 5, 3, 7, 6, 9, 9, 0, 0, 1, 9, 6, 4, 0, 7, 9, 3, 7, 9, 9, 9, 9, 3,\n",
      "        4, 5, 6, 0, 2, 9, 2, 3, 2, 4, 0, 5, 0, 8, 8, 9, 1, 1, 0, 2, 1, 6, 2, 8,\n",
      "        3, 4, 7, 9])\n",
      "torch.Size([100, 1, 28, 28])\n"
     ]
    }
   ],
   "source": [
    "for images, labels in train_loader:\n",
    "    print(labels)\n",
    "    print(images.shape)\n",
    "    #outputs=model(images)\n",
    "    break"
   ]
  },
  {
   "cell_type": "markdown",
   "metadata": {},
   "source": [
    "Here we extend the nn.Module class. We do inheritence by `super().__init__()`\n",
    " "
   ]
  },
  {
   "cell_type": "code",
   "execution_count": 81,
   "metadata": {},
   "outputs": [],
   "source": [
    "class MnistModel(nn.Module):\n",
    "    def __init__(self):\n",
    "        super().__init__()\n",
    "        self.linear = nn.Linear(input_size,num_classes)\n",
    "    def forward(self,xb):\n",
    "        xb = xb.reshape(-1,28*28)\n",
    "        out = self.linear(xb)\n",
    "        return out \n",
    "    \n",
    "model = MnistModel()\n",
    "        "
   ]
  },
  {
   "cell_type": "code",
   "execution_count": 82,
   "metadata": {},
   "outputs": [
    {
     "data": {
      "text/plain": [
       "[Parameter containing:\n",
       " tensor([[ 0.0078, -0.0071, -0.0142,  ..., -0.0136,  0.0230, -0.0278],\n",
       "         [-0.0202,  0.0312, -0.0126,  ...,  0.0278,  0.0082, -0.0232],\n",
       "         [ 0.0202,  0.0317, -0.0041,  ...,  0.0158,  0.0095,  0.0200],\n",
       "         ...,\n",
       "         [-0.0256, -0.0204, -0.0143,  ..., -0.0142,  0.0019,  0.0345],\n",
       "         [-0.0034,  0.0127,  0.0193,  ...,  0.0175,  0.0068, -0.0230],\n",
       "         [-0.0040, -0.0245, -0.0321,  ..., -0.0192, -0.0013, -0.0350]],\n",
       "        requires_grad=True), Parameter containing:\n",
       " tensor([ 0.0107, -0.0186,  0.0088, -0.0240, -0.0298, -0.0024,  0.0280,  0.0016,\n",
       "         -0.0221,  0.0201], requires_grad=True)]"
      ]
     },
     "execution_count": 82,
     "metadata": {},
     "output_type": "execute_result"
    }
   ],
   "source": [
    "list(model.parameters())"
   ]
  },
  {
   "cell_type": "code",
   "execution_count": 44,
   "metadata": {},
   "outputs": [
    {
     "name": "stdout",
     "output_type": "stream",
     "text": [
      "tensor([1, 5, 9, 5, 9, 4, 1, 1, 8, 9, 3, 2, 0, 2, 2, 7, 8, 6, 9, 3, 1, 5, 8, 0,\n",
      "        0, 9, 1, 5, 1, 0, 3, 3, 3, 1, 4, 0, 7, 3, 0, 3, 2, 3, 8, 1, 6, 1, 1, 1,\n",
      "        1, 1, 1, 1, 3, 2, 3, 2, 6, 2, 2, 0, 7, 5, 8, 1, 3, 3, 9, 4, 9, 7, 4, 3,\n",
      "        7, 6, 3, 2, 7, 9, 5, 2, 2, 6, 8, 1, 7, 7, 8, 1, 2, 5, 0, 5, 0, 0, 3, 7,\n",
      "        6, 8, 9, 9])\n"
     ]
    }
   ],
   "source": [
    "\n",
    "for images, labels in train_loader: \n",
    "    print(labels)\n",
    "    outputs= model(images)\n",
    "    break"
   ]
  },
  {
   "cell_type": "code",
   "execution_count": 49,
   "metadata": {},
   "outputs": [
    {
     "name": "stdout",
     "output_type": "stream",
     "text": [
      "torch.Size([100, 10])\n"
     ]
    }
   ],
   "source": [
    "print(outputs.shape)\n"
   ]
  },
  {
   "cell_type": "code",
   "execution_count": 53,
   "metadata": {},
   "outputs": [
    {
     "name": "stdout",
     "output_type": "stream",
     "text": [
      "tensor([0.1039, 0.0952, 0.0992, 0.0978, 0.1003, 0.0963, 0.1143, 0.0979, 0.0912,\n",
      "        0.1039], grad_fn=<SelectBackward>)\n",
      "tensor([6, 6, 5, 5, 7, 6, 5, 5, 6, 4, 2, 5, 9, 6, 9, 9, 6, 9, 6, 9, 9, 6, 6, 2,\n",
      "        8, 5, 9, 6, 5, 9, 9, 5, 6, 5, 3, 2, 5, 6, 5, 2, 1, 6, 6, 6, 9, 6, 6, 7,\n",
      "        7, 9, 7, 9, 6, 5, 6, 5, 9, 5, 5, 9, 5, 4, 6, 6, 9, 6, 9, 5, 5, 5, 6, 9,\n",
      "        5, 9, 5, 5, 7, 5, 5, 5, 9, 9, 6, 2, 6, 6, 5, 6, 5, 5, 9, 6, 9, 9, 2, 5,\n",
      "        9, 5, 5, 6])\n"
     ]
    }
   ],
   "source": [
    "# We need to pass each output to a softmax. The predictions are clearly very shit right now, because we have not trained anything...\n",
    "\n",
    "import torch.nn.functional as F\n",
    "probs = F.softmax(outputs, dim=1)\n",
    "print(probs[0])\n",
    "max_probs, preds = torch.max(probs, dim = 1)\n",
    "print(preds)"
   ]
  },
  {
   "cell_type": "code",
   "execution_count": null,
   "metadata": {},
   "outputs": [],
   "source": []
  },
  {
   "cell_type": "markdown",
   "metadata": {},
   "source": [
    "## Evaluation metric and loss Function \n",
    "We would like to evaluate how well the model is performing. A natrual way would be to find percentage of labels.\n",
    "However this can't be used by the operator because \n",
    "\n",
    "1. this can't be differentiated. torch.max and == are not continuous and non-differentiable operations.  \n",
    "2. It also doesnt take into account the probabiolities predicted by the model so it doesnt provide sufficient feedback for incremental improvements \n"
   ]
  },
  {
   "cell_type": "code",
   "execution_count": 56,
   "metadata": {},
   "outputs": [],
   "source": [
    "\n",
    "def accuracy(l1,l2):\n",
    "    return torch.sum(l1==l2).item()/len(l1)"
   ]
  },
  {
   "cell_type": "code",
   "execution_count": 57,
   "metadata": {},
   "outputs": [
    {
     "data": {
      "text/plain": [
       "0.05"
      ]
     },
     "execution_count": 57,
     "metadata": {},
     "output_type": "execute_result"
    }
   ],
   "source": [
    "accuracy(preds, labels)"
   ]
  },
  {
   "cell_type": "markdown",
   "metadata": {},
   "source": [
    "### Cross entropy! \n",
    "This is widely used for all kinds of classification. it takes the form \n",
    "\n",
    "$$ D = - \\sum y_i ln \\hat y_i $$\n",
    "\n",
    "For classification its trying to maximise the sum of the probabilities predicted of the right class and saying we dont care about the others. \n",
    "\n",
    "Pytorch implements this for us. Note this does the softmax for us so we dont need to do it again. "
   ]
  },
  {
   "cell_type": "code",
   "execution_count": 63,
   "metadata": {},
   "outputs": [
    {
     "name": "stdout",
     "output_type": "stream",
     "text": [
      "tensor(2.3246, grad_fn=<NllLossBackward>)\n"
     ]
    }
   ],
   "source": [
    "loss_fn = F.cross_entropy \n",
    "# loss for current batch of data \n",
    "loss = loss_fn(F.softmax(outputs,dim=1), labels)\n",
    "loss = loss_fn(outputs, labels)\n",
    "\n",
    "print(loss)"
   ]
  },
  {
   "cell_type": "markdown",
   "metadata": {},
   "source": [
    "### Optimizer\n",
    "Again, use the stochastic gradient descent. Use a higher learning rate this time. \n",
    " parameters like batch size, learning rate etc are called hyperparameters. They are picked before training. Subject to experimentation. \n",
    " \n",
    "\n"
   ]
  },
  {
   "cell_type": "code",
   "execution_count": 64,
   "metadata": {},
   "outputs": [],
   "source": [
    "learning_rate = 0.001\n",
    "optimizer = torch.optim.SGD(model.parameters(), lr= learning_rate)\n"
   ]
  },
  {
   "cell_type": "markdown",
   "metadata": {},
   "source": [
    "Define a function for calculating batch loss , `loss_batch`. it does the following: \n",
    "1. calculate the loss of the function \n",
    "2. compute the gradient \n",
    "3. update the parameters \n",
    "4. reset gradients \n",
    "5. compute metric \n"
   ]
  },
  {
   "cell_type": "code",
   "execution_count": 65,
   "metadata": {},
   "outputs": [],
   "source": [
    "def loss_batch(model, loss_func, xb,yb, opt=None, metric = None):\n",
    "    preds = model(xb)\n",
    "    loss = loss_func(preds, yb)\n",
    "    if opt is not None: \n",
    "        # compute gradients \n",
    "        loss.backward()\n",
    "        # Update parameters \n",
    "        opt.step()\n",
    "        # reset the gradients \n",
    "        opt.zero_grad()\n",
    "        \n",
    "    metric_result = None \n",
    "    if metric is not None: \n",
    "        # compute the metric \n",
    "        metric_result = metric(preds, yb)\n",
    "    return loss.item(), len(xb), metric_result\n",
    "        "
   ]
  },
  {
   "cell_type": "code",
   "execution_count": 74,
   "metadata": {},
   "outputs": [],
   "source": [
    "def evaluate(model, loss_fun, valid_dl, metric = None):\n",
    "    with torch.no_grad(): # we do not require the gradient at all for this! \n",
    "        \n",
    "        # pass each batch into the model\n",
    "        results = [loss_batch(model, loss_fun, xb, yb, metric = metric ) for xb, yb in valid_dl]\n",
    "        \n",
    "        # separate losses, counts and metrics \n",
    "        losses, nums, metrics = zip(*results)\n",
    "        \n",
    "        # Total size of dataset \n",
    "        total = np.sum(nums)\n",
    "        \n",
    "        # Avg loss across batches \n",
    "        avg_loss = np.sum(np.multiply(losses,nums))/total\n",
    "        \n",
    "        avg_metric = None \n",
    "        if metric is not None:\n",
    "            # avg. of metric across batches \n",
    "            avg_metric = np.sum(np.multiply(metrics, nums))/total \n",
    "    return avg_loss, total, avg_metric "
   ]
  },
  {
   "cell_type": "code",
   "execution_count": 73,
   "metadata": {},
   "outputs": [
    {
     "name": "stdout",
     "output_type": "stream",
     "text": [
      "<zip object at 0x0000029510370D48>\n"
     ]
    },
    {
     "data": {
      "text/plain": [
       "(1, 2, 2)"
      ]
     },
     "execution_count": 73,
     "metadata": {},
     "output_type": "execute_result"
    }
   ],
   "source": [
    "results = [[1,2,3],[2,3,5],[2,3,6]]\n",
    "a, b,c = zip(*results)\n",
    "print(zip(*results))\n",
    "a"
   ]
  },
  {
   "cell_type": "code",
   "execution_count": 86,
   "metadata": {},
   "outputs": [],
   "source": [
    "def accuracy(outputs, labels):\n",
    "    # preds is the index of the max values \n",
    "    _, preds = torch.max(outputs, dim=1)\n",
    "    return torch.sum(preds ==labels).item()/len(preds)\n",
    "    "
   ]
  },
  {
   "cell_type": "markdown",
   "metadata": {},
   "source": [
    "### Now we can see how it performs: \n"
   ]
  },
  {
   "cell_type": "code",
   "execution_count": 91,
   "metadata": {},
   "outputs": [],
   "source": [
    "val_loss, total, val_acc = evaluate(model, loss_fn, val_loader, metric = accuracy)"
   ]
  },
  {
   "cell_type": "code",
   "execution_count": 92,
   "metadata": {},
   "outputs": [
    {
     "name": "stdout",
     "output_type": "stream",
     "text": [
      "0.6766666666666666\n"
     ]
    }
   ],
   "source": [
    "print(val_acc)"
   ]
  },
  {
   "cell_type": "markdown",
   "metadata": {},
   "source": [
    "## Finally we train the model! define a fit function "
   ]
  },
  {
   "cell_type": "code",
   "execution_count": 97,
   "metadata": {},
   "outputs": [],
   "source": [
    "def fit(epochs, model, loss_fun, opt, train_dl, valid_dl, metrics=None):\n",
    "    for epoch in range(epochs):\n",
    "        \n",
    "        # training \n",
    "        for xb, yb in train_dl: \n",
    "            loss, _, _ = loss_batch(model, loss_fn, xb, yb, opt)\n",
    "        \n",
    "        # evaluation \n",
    "        result = evaluate(model, loss_fn, valid_dl, metrics)\n",
    "        val_loss, total, val_metric = result \n",
    "        \n",
    "        # print progress : \n",
    "        if metrics is None: \n",
    "            print(\"Epoch [%d / %d], loss : %4f\" % (epoch +1, epochs, val_loss))\n",
    "            \n",
    "        else: \n",
    "            print(\"Epoch [%d / %d], loss: %4f, %s: %4f\" % (epoch+1, epochs, val_loss, metrics.__name__, val_metric))"
   ]
  },
  {
   "cell_type": "code",
   "execution_count": 98,
   "metadata": {},
   "outputs": [
    {
     "name": "stdout",
     "output_type": "stream",
     "text": [
      "Epoch [1 / 5], loss: 1.875479, accuracy: 0.642167\n",
      "Epoch [2 / 5], loss: 1.580070, accuracy: 0.737500\n",
      "Epoch [3 / 5], loss: 1.372327, accuracy: 0.767917\n",
      "Epoch [4 / 5], loss: 1.222847, accuracy: 0.785667\n",
      "Epoch [5 / 5], loss: 1.111985, accuracy: 0.798167\n"
     ]
    }
   ],
   "source": [
    "model = MnistModel()\n",
    "optimizer = torch.optim.SGD(model.parameters(), lr = learning_rate)\n",
    "fit(5, model, F.cross_entropy, optimizer,train_loader, val_loader, metrics = accuracy)"
   ]
  },
  {
   "cell_type": "markdown",
   "metadata": {},
   "source": [
    "## Testing with individual images "
   ]
  },
  {
   "cell_type": "code",
   "execution_count": 103,
   "metadata": {},
   "outputs": [
    {
     "data": {
      "text/plain": [
       "torch.Size([1, 28, 28])"
      ]
     },
     "execution_count": 103,
     "metadata": {},
     "output_type": "execute_result"
    }
   ],
   "source": [
    "img, label = dataset[0]\n",
    "img.shape"
   ]
  },
  {
   "cell_type": "code",
   "execution_count": 104,
   "metadata": {},
   "outputs": [
    {
     "data": {
      "text/plain": [
       "torch.Size([1, 1, 28, 28])"
      ]
     },
     "execution_count": 104,
     "metadata": {},
     "output_type": "execute_result"
    }
   ],
   "source": [
    "img.unsqueeze(0).shape"
   ]
  },
  {
   "cell_type": "code",
   "execution_count": 110,
   "metadata": {},
   "outputs": [],
   "source": [
    "def predict_image(img,model):\n",
    "    xb = img.unsqueeze(0)\n",
    "    yb = model(xb)\n",
    "    _, preds = torch.max(yb, dim=1)\n",
    "    return preds"
   ]
  },
  {
   "cell_type": "code",
   "execution_count": 111,
   "metadata": {},
   "outputs": [
    {
     "name": "stdout",
     "output_type": "stream",
     "text": [
      "tensor([0])\n"
     ]
    },
    {
     "data": {
      "image/png": "[encoded data removed]",
      "text/plain": [
       "<Figure size 432x288 with 1 Axes>"
      ]
     },
     "metadata": {},
     "output_type": "display_data"
    }
   ],
   "source": [
    "img, label = dataset[1]\n",
    "plt.imshow(img[0])\n",
    "print(predict_image(img, model))"
   ]
  },
  {
   "cell_type": "code",
   "execution_count": null,
   "metadata": {},
   "outputs": [],
   "source": []
  }
 ],
 "metadata": {
  "kernelspec": {
   "display_name": "Python 3",
   "language": "python",
   "name": "python3"
  },
  "language_info": {
   "codemirror_mode": {
    "name": "ipython",
    "version": 3
   },
   "file_extension": ".py",
   "mimetype": "text/x-python",
   "name": "python",
   "nbconvert_exporter": "python",
   "pygments_lexer": "ipython3",
   "version": "3.6.6"
  }
 },
 "nbformat": 4,
 "nbformat_minor": 2
}
