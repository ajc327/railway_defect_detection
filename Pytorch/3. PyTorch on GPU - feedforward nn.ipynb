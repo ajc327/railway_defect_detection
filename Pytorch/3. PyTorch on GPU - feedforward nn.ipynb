{
 "cells": [
  {
   "cell_type": "code",
   "execution_count": 1,
   "metadata": {},
   "outputs": [],
   "source": [
    "import torch \n",
    "import numpy as np\n",
    "import torchvision \n",
    "from torchvision.datasets import MNIST \n",
    "from torchvision.transforms import ToTensor \n",
    "from torch.utils.data.sampler import SubsetRandomSampler\n",
    "from torch.utils.data.dataloader import DataLoader\n",
    "import matplotlib.pyplot as plt\n",
    "%matplotlib inline \n"
   ]
  },
  {
   "cell_type": "code",
   "execution_count": 2,
   "metadata": {},
   "outputs": [],
   "source": [
    "dataset = MNIST(root = 'Mdata/', transform= ToTensor())"
   ]
  },
  {
   "cell_type": "markdown",
   "metadata": {},
   "source": [
    "## 1. indices splitter to split the dataset "
   ]
  },
  {
   "cell_type": "code",
   "execution_count": 3,
   "metadata": {},
   "outputs": [],
   "source": [
    "def split_indices(n, pct):\n",
    "    a = int(n*pct)\n",
    "    idx = np.random.permutation(n)\n",
    "    return idx[a:], idx[:a]\n",
    "    "
   ]
  },
  {
   "cell_type": "code",
   "execution_count": 4,
   "metadata": {},
   "outputs": [
    {
     "name": "stdout",
     "output_type": "stream",
     "text": [
      "torch.Size([1, 28, 28]) 5\n"
     ]
    }
   ],
   "source": [
    "img, label = dataset[0]\n",
    "print(img.shape,label)"
   ]
  },
  {
   "cell_type": "code",
   "execution_count": 5,
   "metadata": {},
   "outputs": [
    {
     "name": "stdout",
     "output_type": "stream",
     "text": [
      "5\n"
     ]
    },
    {
     "data": {
      "image/png": "[encoded data removed]",
      "text/plain": [
       "<Figure size 432x288 with 1 Axes>"
      ]
     },
     "metadata": {},
     "output_type": "display_data"
    }
   ],
   "source": [
    "plt.imshow(img[0])\n",
    "print(label)"
   ]
  },
  {
   "cell_type": "code",
   "execution_count": 6,
   "metadata": {},
   "outputs": [
    {
     "name": "stdout",
     "output_type": "stream",
     "text": [
      "48000 12000\n"
     ]
    }
   ],
   "source": [
    "train_idx, val_idx = split_indices(len(dataset), pct=0.2)\n",
    "print(len(train_idx), len(val_idx))"
   ]
  },
  {
   "cell_type": "markdown",
   "metadata": {},
   "source": [
    "## 2. Defining the samplers and data loaders and batch size"
   ]
  },
  {
   "cell_type": "code",
   "execution_count": 23,
   "metadata": {},
   "outputs": [],
   "source": [
    "batch_size = 100 \n",
    "# We pick random samples. It will sample from the ones it hasnt seen.    \n",
    "train_sampler = SubsetRandomSampler(train_idx)\n",
    "train_dl = DataLoader(dataset, batch_size, sampler=train_sampler)\n",
    "\n",
    "val_sampler = SubsetRandomSampler(val_idx)\n",
    "valid_dl = DataLoader(dataset, batch_size, sampler=val_sampler)\n"
   ]
  },
  {
   "cell_type": "markdown",
   "metadata": {},
   "source": [
    "## 3. Model! \n",
    "In this we will use a simple feed forward neural network with one hidden layer.  \n",
    "\n",
    "The linear regressor is a neural net with no hidden layer. Each output neuron takes 784 inputs, gives a weight to each of them and mapps to an output. 784*10 weights and 10 biases\n",
    "\n",
    "By using a fully connected layer with a non-linear activation function, we get a non-linear mapping so we can find non linear relationships in our model. \n",
    "\n",
    "* The first layer will output 32 or 64 elements. \n",
    "* The second layer is the output, mapps the 64 inputs into 10 labels. \n",
    " "
   ]
  },
  {
   "cell_type": "code",
   "execution_count": 8,
   "metadata": {},
   "outputs": [],
   "source": [
    "import torch.nn.functional as F \n",
    "import torch.nn as nn \n",
    "\n"
   ]
  },
  {
   "cell_type": "code",
   "execution_count": 9,
   "metadata": {},
   "outputs": [
    {
     "name": "stdout",
     "output_type": "stream",
     "text": [
      "torch.Size([100, 1, 28, 28])\n",
      "torch.Size([100, 784])\n"
     ]
    }
   ],
   "source": [
    "for xb, yb in train_dl:\n",
    "    print(xb.shape)\n",
    "    print(xb.reshape(xb.size(0),-1).shape)\n",
    "    break"
   ]
  },
  {
   "cell_type": "code",
   "execution_count": 10,
   "metadata": {},
   "outputs": [],
   "source": [
    "class MnistModel(nn.Module):\n",
    "    def __init__(self, in_size, hidden_size,out_size):\n",
    "        super().__init__()\n",
    "        \n",
    "        # hidden layer \n",
    "        self.linear1 = nn.Linear(in_size, hidden_size)\n",
    "        \n",
    "        # output layer \n",
    "        self.linear2 = nn.Linear(hidden_size, out_size)\n",
    "    def forward(self, xb):\n",
    "        # First flatten the image. the -1 will force it to compute whatever number will result in the same number of elements. \n",
    "        xb = xb.view(xb.size(0),-1)\n",
    "        \n",
    "        a = self.linear1(xb)\n",
    "        \n",
    "        out = F.relu(a)\n",
    "        \n",
    "        # get predictions using output layer\n",
    "        \n",
    "        out = self.linear2(out)\n",
    "        \n",
    "        return out \n",
    "    \n",
    "        \n",
    "        "
   ]
  },
  {
   "cell_type": "markdown",
   "metadata": {},
   "source": [
    "### See whats going on with the model \n"
   ]
  },
  {
   "cell_type": "code",
   "execution_count": 11,
   "metadata": {},
   "outputs": [
    {
     "name": "stdout",
     "output_type": "stream",
     "text": [
      "torch.Size([32, 784])\n",
      "torch.Size([32])\n",
      "torch.Size([10, 32])\n",
      "torch.Size([10])\n"
     ]
    }
   ],
   "source": [
    "input_size = 784\n",
    "num_classes = 10 \n",
    "model = MnistModel(input_size, hidden_size=32, out_size=10)\n",
    "for t in model.parameters():\n",
    "    print(t.shape)"
   ]
  },
  {
   "cell_type": "code",
   "execution_count": 12,
   "metadata": {},
   "outputs": [
    {
     "name": "stdout",
     "output_type": "stream",
     "text": [
      "loss:  tensor(2.3296, grad_fn=<NllLossBackward>)\n"
     ]
    }
   ],
   "source": [
    "for images, labels in train_dl:\n",
    "    outputs = model(images)\n",
    "    loss = F.cross_entropy(outputs, labels)\n",
    "    print(\"loss: \", loss)\n",
    "    break "
   ]
  },
  {
   "cell_type": "markdown",
   "metadata": {},
   "source": [
    "## loss_batch : this is the training step \n",
    "\n",
    "calculates the loss, metrics and performs a gradient descent step"
   ]
  },
  {
   "cell_type": "code",
   "execution_count": 43,
   "metadata": {},
   "outputs": [],
   "source": [
    "def loss_batch(model, xb, yb, loss,opt=None,metrics=None):\n",
    "    preds = model(xb)\n",
    "    cost = loss(preds, yb)\n",
    "    num  = len(xb)\n",
    "    if opt is not None:\n",
    "        cost.backward()\n",
    "        opt.step()\n",
    "        opt.zero_grad()\n",
    "    metrics_result = None\n",
    "    if metrics is not None:\n",
    "        metrics_result = metrics(preds, yb)\n",
    "    return cost, num, metrics_result\n",
    "    \n",
    "    \n",
    "    "
   ]
  },
  {
   "cell_type": "code",
   "execution_count": 55,
   "metadata": {},
   "outputs": [],
   "source": [
    "def evaluation(model, loss, eval_dl, metrics):\n",
    "    with torch.no_grad():\n",
    "        results = [loss_batch(model,xb,yb,loss,metrics=metrics) for xb, yb in eval_dl]\n",
    "        costs, nums, metrics_result = zip(*results)\n",
    "        total = np.sum(nums)\n",
    "        average_cost = np.sum(np.multiply(costs,nums))/total\n",
    "        \n",
    "        average_metrics_result = None \n",
    "        if metrics is not None:\n",
    "            \n",
    "            average_metrics_result = np.sum(np.multiply(metrics_result,nums))/total\n",
    "        \n",
    "    return average_cost, total, average_metrics_result\n",
    "        \n",
    "def accuracy(preds, yb):\n",
    "    _, locs = torch.max(preds,dim =1)\n",
    "    return torch.sum(locs ==yb)/len(preds)"
   ]
  },
  {
   "cell_type": "code",
   "execution_count": 51,
   "metadata": {},
   "outputs": [],
   "source": [
    "for images, labels in train_dl:\n",
    "    cost, num, metric_result = loss_batch(model,loss=F.cross_entropy,metrics=accuracy,opt=None,xb=images,yb=labels)\n",
    "\n",
    "    break "
   ]
  },
  {
   "cell_type": "code",
   "execution_count": 68,
   "metadata": {},
   "outputs": [],
   "source": [
    "def fit(epochs,lr, model, loss_fn, train_dl, eval_dl,opt_fn=None, metrics=None):\n",
    "    if opt_fn is None: opt_fn = torch.optim.SGD\n",
    "    loss_list =[]\n",
    "    metric_list=[]\n",
    "    opt = opt_fn(model.parameters(), lr = lr)\n",
    "        \n",
    "    for epoch in range(epochs): \n",
    "        for xb, yb in train_dl:\n",
    "            loss, _,_ =loss_batch(model,xb,yb,loss_fn,opt,metrics)\n",
    "        \n",
    "        val_loss, total, val_metric  = evaluation(model,loss_fn,eval_dl, metrics) \n",
    "        \n",
    "        # record the loss and metric\n",
    "        loss_list.append(val_loss)\n",
    "        metric_list.append(val_metric)\n",
    "        \n",
    "        if metrics is None:\n",
    "            print(\"epoch %d / %d , loss is %.4f\" %(epoch, epochs, val_loss))\n",
    "        else:\n",
    "            print(\"epoch %d / %d, loss is %.4f, %s is %.4f\" % (epoch, epochs, val_loss, metrics.__name__, val_metric))\n",
    "    return loss_list, metric_list"
   ]
  },
  {
   "cell_type": "markdown",
   "metadata": {},
   "source": [
    "## Using a GPU\n",
    "GPU has many cores, which is optimized for performing expensive matrix multiplications. We need to create a function to ensure the code uses the GPU if available, and the CPU if GPU isnt. \n",
    "\n"
   ]
  },
  {
   "cell_type": "code",
   "execution_count": 15,
   "metadata": {},
   "outputs": [
    {
     "data": {
      "text/plain": [
       "True"
      ]
     },
     "execution_count": 15,
     "metadata": {},
     "output_type": "execute_result"
    }
   ],
   "source": [
    "torch.cuda.is_available()"
   ]
  },
  {
   "cell_type": "code",
   "execution_count": 16,
   "metadata": {},
   "outputs": [],
   "source": [
    "def get_default_device():\n",
    "    if torch.cuda.is_available():\n",
    "        return torch.device('cuda')\n",
    "    else: \n",
    "        return torch.device(\"cpu\")"
   ]
  },
  {
   "cell_type": "code",
   "execution_count": 17,
   "metadata": {},
   "outputs": [
    {
     "data": {
      "text/plain": [
       "device(type='cuda')"
      ]
     },
     "execution_count": 17,
     "metadata": {},
     "output_type": "execute_result"
    }
   ],
   "source": [
    "device = get_default_device()\n",
    "device"
   ]
  },
  {
   "cell_type": "markdown",
   "metadata": {},
   "source": [
    "### moving data and model to a chosen device "
   ]
  },
  {
   "cell_type": "code",
   "execution_count": 18,
   "metadata": {},
   "outputs": [],
   "source": [
    "def to_device(data,device):\n",
    "    if isinstance(data, (list,tuple)):\n",
    "        return [to_device(x,device) for x in data]\n",
    "    return data.to(device, non_blocking = True)"
   ]
  },
  {
   "cell_type": "code",
   "execution_count": 19,
   "metadata": {},
   "outputs": [
    {
     "data": {
      "text/plain": [
       "[tensor([1., 2., 3., 4.]), tensor([2., 3., 5., 6.])]"
      ]
     },
     "execution_count": 19,
     "metadata": {},
     "output_type": "execute_result"
    }
   ],
   "source": [
    "to_device([torch.tensor([1.,2.,3.,4.]), torch.tensor([2.,3.,5.,6.])], \"cpu\")"
   ]
  },
  {
   "cell_type": "code",
   "execution_count": 20,
   "metadata": {},
   "outputs": [
    {
     "name": "stdout",
     "output_type": "stream",
     "text": [
      "torch.Size([100, 1, 28, 28])\n",
      "cpu\n"
     ]
    }
   ],
   "source": [
    "for images, labels in train_dl:\n",
    "    print(images.shape)\n",
    "    images = to_device(images, \"cpu\")\n",
    "    print(images[0].device)\n",
    "    break"
   ]
  },
  {
   "cell_type": "markdown",
   "metadata": {},
   "source": [
    "We want to load data to the GPU, but not all at once. we need a class to do this.\n"
   ]
  },
  {
   "cell_type": "code",
   "execution_count": 21,
   "metadata": {},
   "outputs": [],
   "source": [
    "class DeviceDataLoader():\n",
    "    def __init__(self, dl, device):\n",
    "        self.dl = dl \n",
    "        self.device = device\n",
    "    def __iter__(self):\n",
    "        for b in self.dl:\n",
    "            # this returns the result for that iteration and breaks. The next time the funcion is called, it will continue to \n",
    "            # yield the next one. \n",
    "            yield to_device(b,self.device)\n",
    "            # we don't need to worry about moving things off the GPU. Automatic garbage collection happens. \n",
    "    def __len__(self):\n",
    "        return len(self.dl)"
   ]
  },
  {
   "cell_type": "code",
   "execution_count": 24,
   "metadata": {},
   "outputs": [],
   "source": [
    "train_dl = DeviceDataLoader(train_dl, device)\n",
    "valid_dl = DeviceDataLoader(valid_dl,device)"
   ]
  },
  {
   "cell_type": "code",
   "execution_count": 25,
   "metadata": {},
   "outputs": [
    {
     "name": "stdout",
     "output_type": "stream",
     "text": [
      "xb.device: cuda:0\n"
     ]
    }
   ],
   "source": [
    "for xb, yb in valid_dl:\n",
    "    print(\"xb.device:\", xb.device)\n",
    "    break"
   ]
  },
  {
   "cell_type": "code",
   "execution_count": 29,
   "metadata": {},
   "outputs": [
    {
     "data": {
      "text/plain": [
       "MnistModel(\n",
       "  (linear1): Linear(in_features=784, out_features=32, bias=True)\n",
       "  (linear2): Linear(in_features=32, out_features=10, bias=True)\n",
       ")"
      ]
     },
     "execution_count": 29,
     "metadata": {},
     "output_type": "execute_result"
    }
   ],
   "source": [
    "model = MnistModel(input_size, hidden_size=32, out_size= num_classes)\n",
    "to_device(model,device)"
   ]
  },
  {
   "cell_type": "code",
   "execution_count": 59,
   "metadata": {},
   "outputs": [
    {
     "name": "stdout",
     "output_type": "stream",
     "text": [
      "tensor(2.3067, device='cuda:0') tensor(0.1336, device='cuda:0')\n"
     ]
    }
   ],
   "source": [
    "val_loss, total, val_acc = evaluation(model, F.cross_entropy, valid_dl, metrics=accuracy)\n",
    "print(val_loss, val_acc)"
   ]
  },
  {
   "cell_type": "code",
   "execution_count": 69,
   "metadata": {},
   "outputs": [
    {
     "name": "stdout",
     "output_type": "stream",
     "text": [
      "epoch 0 / 5, loss is 0.1593, accuracy is 0.9527\n",
      "epoch 1 / 5, loss is 0.1508, accuracy is 0.9563\n",
      "epoch 2 / 5, loss is 0.1446, accuracy is 0.9582\n",
      "epoch 3 / 5, loss is 0.1394, accuracy is 0.9596\n",
      "epoch 4 / 5, loss is 0.1369, accuracy is 0.9598\n"
     ]
    }
   ],
   "source": [
    "losses1, metrics1 = fit(5,0.1, model, F.cross_entropy, train_dl, valid_dl, metrics=accuracy)"
   ]
  },
  {
   "cell_type": "code",
   "execution_count": null,
   "metadata": {},
   "outputs": [],
   "source": []
  }
 ],
 "metadata": {
  "kernelspec": {
   "display_name": "Python 3",
   "language": "python",
   "name": "python3"
  },
  "language_info": {
   "codemirror_mode": {
    "name": "ipython",
    "version": 3
   },
   "file_extension": ".py",
   "mimetype": "text/x-python",
   "name": "python",
   "nbconvert_exporter": "python",
   "pygments_lexer": "ipython3",
   "version": "3.6.6"
  }
 },
 "nbformat": 4,
 "nbformat_minor": 2
}
