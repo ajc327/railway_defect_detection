{
 "cells": [
  {
   "cell_type": "markdown",
   "metadata": {},
   "source": [
    "# GAN \n",
    "\n",
    "gans are trained to be generative models. They consist of a generator, which "
   ]
  },
  {
   "cell_type": "code",
   "execution_count": 1,
   "metadata": {},
   "outputs": [],
   "source": [
    "import torch \n",
    "import torchvision \n",
    "from torchvision.transforms import ToTensor, Normalize, Compose, Pad\n",
    "from torchvision.datasets import ImageFolder\n",
    "\n",
    "from torch.utils.data import DataLoader\n",
    "\n"
   ]
  },
  {
   "cell_type": "code",
   "execution_count": 2,
   "metadata": {},
   "outputs": [],
   "source": [
    "data_dir = \"Fruitsdata/archive/fruits-360/Training\"\n",
    "\n",
    "\n",
    "#dataset = ImageFolder(data_dir,\n",
    "             \n",
    "             #transform = Compose([ToTensor()]))\n",
    "#data_loader = DataLoader(dataset, batch_size = 1000,shuffle=True)\n",
    "#data = next(iter(data_loader))\n"
   ]
  },
  {
   "cell_type": "code",
   "execution_count": 3,
   "metadata": {},
   "outputs": [
    {
     "name": "stdout",
     "output_type": "stream",
     "text": [
      "[0.3081, 0.3638, 0.3936]\n",
      "[0.6813, 0.5756, 0.5041]\n"
     ]
    }
   ],
   "source": [
    "#print(data[0].shape)\n",
    "#mean=torch.mean(data[0],[0,2,3])\n",
    "#std = torch.std(data[0],[0,2,3])\n",
    "std =[0.3081, 0.3638, 0.3936]\n",
    "mean = [0.6813, 0.5756, 0.5041]\n",
    "print(std)\n",
    "print(mean)\n",
    "batch_size =30\n",
    "dataset = ImageFolder(data_dir,\n",
    "             \n",
    "             transform = Compose([ToTensor(),Pad(14,fill=1),Normalize(mean,std)]))\n",
    "data_loader = DataLoader(dataset, batch_size = batch_size,shuffle=True,drop_last=True)"
   ]
  },
  {
   "cell_type": "code",
   "execution_count": 4,
   "metadata": {},
   "outputs": [],
   "source": [
    "def denorm(x):\n",
    "    if len(x.shape)==3:\n",
    "        for i in range(len(std)):\n",
    "            x[i]*=std[i]\n",
    "            x[i]+= mean[i]\n",
    "    else:\n",
    "        for i in range(len(std)):\n",
    "            for j in range(len(x)):\n",
    "                x[j][i]*=std[i]\n",
    "                x[j][i]+= mean[i]\n",
    "    return x.clamp(0,1)"
   ]
  },
  {
   "cell_type": "code",
   "execution_count": 5,
   "metadata": {},
   "outputs": [
    {
     "name": "stdout",
     "output_type": "stream",
     "text": [
      "torch.Size([128, 128, 3])\n"
     ]
    },
    {
     "data": {
      "text/plain": [
       "<matplotlib.image.AxesImage at 0x221e33cb128>"
      ]
     },
     "execution_count": 5,
     "metadata": {},
     "output_type": "execute_result"
    }
   ],
   "source": [
    "import matplotlib.pyplot as plt \n",
    "import numpy as np\n",
    "img = dataset[np.random.randint(len(dataset))][0]\n",
    "img_norm = denorm(img)\n",
    "print(img_norm.permute(1,2,0).shape)\n",
    "\n",
    "plt.imshow(img_norm.permute(1,2,0))"
   ]
  },
  {
   "cell_type": "code",
   "execution_count": null,
   "metadata": {},
   "outputs": [],
   "source": [
    "\n"
   ]
  },
  {
   "cell_type": "markdown",
   "metadata": {},
   "source": [
    "## It seems we dont need train validation split for this! We use everything for training.\n",
    "\n",
    "Heck we dont even need to have labels! This is unsupervised. "
   ]
  },
  {
   "cell_type": "code",
   "execution_count": 6,
   "metadata": {},
   "outputs": [
    {
     "name": "stdout",
     "output_type": "stream",
     "text": [
      "torch.Size([30, 3, 128, 128])\n"
     ]
    }
   ],
   "source": [
    "for xb,yb in data_loader:\n",
    "    print(xb.shape)\n",
    "    break"
   ]
  },
  {
   "cell_type": "code",
   "execution_count": 7,
   "metadata": {},
   "outputs": [],
   "source": [
    "device = torch.device('cuda' if torch.cuda.is_available() else \"cpu\")"
   ]
  },
  {
   "cell_type": "markdown",
   "metadata": {},
   "source": [
    "## Discriminator model\n",
    "\n",
    "This takes an input and simply classifies it as real or fake. Use a simple linear fully connected network! \n",
    "The leaky relu allows a small gradieent signal for negative values to be passed through. Makes the gradients from the discriminator flow stronger into the generator. \n",
    "\n",
    "the sigmoid gives a probability - of whether the image was real!"
   ]
  },
  {
   "cell_type": "code",
   "execution_count": 8,
   "metadata": {},
   "outputs": [
    {
     "data": {
      "text/plain": [
       "Sequential(\n",
       "  (0): Conv2d(3, 64, kernel_size=(3, 3), stride=(1, 1), padding=(1, 1))\n",
       "  (1): LeakyReLU(negative_slope=0.2)\n",
       "  (2): MaxPool2d(kernel_size=2, stride=2, padding=0, dilation=1, ceil_mode=False)\n",
       "  (3): Conv2d(64, 64, kernel_size=(3, 3), stride=(2, 2), padding=(1, 1))\n",
       "  (4): LeakyReLU(negative_slope=0.2)\n",
       "  (5): MaxPool2d(kernel_size=2, stride=2, padding=0, dilation=1, ceil_mode=False)\n",
       "  (6): Conv2d(64, 64, kernel_size=(3, 3), stride=(2, 2), padding=(1, 1))\n",
       "  (7): LeakyReLU(negative_slope=0.2)\n",
       "  (8): MaxPool2d(kernel_size=2, stride=2, padding=0, dilation=1, ceil_mode=False)\n",
       "  (9): Conv2d(64, 64, kernel_size=(3, 3), stride=(2, 2), padding=(1, 1))\n",
       "  (10): LeakyReLU(negative_slope=0.2)\n",
       "  (11): Flatten(start_dim=1, end_dim=-1)\n",
       "  (12): Linear(in_features=256, out_features=1, bias=True)\n",
       "  (13): Sigmoid()\n",
       ")"
      ]
     },
     "execution_count": 8,
     "metadata": {},
     "output_type": "execute_result"
    }
   ],
   "source": [
    "\n",
    "\n",
    "import torch.nn as nn \n",
    "\n",
    "D = nn.Sequential(\n",
    "    nn.Conv2d(3,64,kernel_size=3,stride=1,padding=1),\n",
    "    nn.LeakyReLU(0.2),\n",
    "    nn.MaxPool2d(2,2),\n",
    "    nn.Conv2d(64,64,kernel_size=3,stride=2,padding = 1),\n",
    "    nn.LeakyReLU(0.2),\n",
    "    nn.MaxPool2d(2,2),\n",
    "\n",
    "    nn.Conv2d(64,64,kernel_size=3, stride=2, padding = 1),\n",
    "    nn.LeakyReLU(0.2),\n",
    "    nn.MaxPool2d(2,2),\n",
    "\n",
    "    nn.Conv2d(64,64, kernel_size=3, stride =2, padding = 1),\n",
    "    nn.LeakyReLU(0.2),\n",
    "    nn.Flatten(),\n",
    "    \n",
    "    nn.Linear(256,1),\n",
    "    nn.Sigmoid()   # so that it becomes a probability! \n",
    ")\n",
    "\n",
    "D.to(device)"
   ]
  },
  {
   "cell_type": "code",
   "execution_count": 9,
   "metadata": {},
   "outputs": [
    {
     "name": "stdout",
     "output_type": "stream",
     "text": [
      "----------------------------------------------------------------\n",
      "        Layer (type)               Output Shape         Param #\n",
      "================================================================\n",
      "            Conv2d-1         [-1, 64, 128, 128]           1,792\n",
      "         LeakyReLU-2         [-1, 64, 128, 128]               0\n",
      "         MaxPool2d-3           [-1, 64, 64, 64]               0\n",
      "            Conv2d-4           [-1, 64, 32, 32]          36,928\n",
      "         LeakyReLU-5           [-1, 64, 32, 32]               0\n",
      "         MaxPool2d-6           [-1, 64, 16, 16]               0\n",
      "            Conv2d-7             [-1, 64, 8, 8]          36,928\n",
      "         LeakyReLU-8             [-1, 64, 8, 8]               0\n",
      "         MaxPool2d-9             [-1, 64, 4, 4]               0\n",
      "           Conv2d-10             [-1, 64, 2, 2]          36,928\n",
      "        LeakyReLU-11             [-1, 64, 2, 2]               0\n",
      "          Flatten-12                  [-1, 256]               0\n",
      "           Linear-13                    [-1, 1]             257\n",
      "          Sigmoid-14                    [-1, 1]               0\n",
      "================================================================\n",
      "Total params: 112,833\n",
      "Trainable params: 112,833\n",
      "Non-trainable params: 0\n",
      "----------------------------------------------------------------\n",
      "Input size (MB): 0.19\n",
      "Forward/backward pass size (MB): 19.20\n",
      "Params size (MB): 0.43\n",
      "Estimated Total Size (MB): 19.82\n",
      "----------------------------------------------------------------\n"
     ]
    }
   ],
   "source": [
    "from torchsummary import summary\n",
    "summary(D, input_size = (3,128,128))"
   ]
  },
  {
   "cell_type": "markdown",
   "metadata": {},
   "source": [
    "## Generative network  \n",
    "\n",
    "The input to the generator is typically a vector or a matrix, which is used as a seed for generating an image. We will use a linear feedforward neural network with 3 layers. Output will be a vector of 784, which can be transformed into a 28*28 image.\n",
    "\n",
    "Relu has been found to work better for the generative network. \n",
    "\n",
    "Tanh is used because our real images were mapped to the range [-1,1], so we want our generator to generate the same format. Allows the model to learn more quickly and satuates the color space of the training distribution quicker.\n",
    "\n",
    "why `latent_size=64`? This determines how much freedom we have. This for the human face could be that one latent dimension corresponds to the eye color!\n"
   ]
  },
  {
   "cell_type": "code",
   "execution_count": 10,
   "metadata": {},
   "outputs": [
    {
     "data": {
      "text/plain": [
       "GeneratorModel(\n",
       "  (linear1): Linear(in_features=64, out_features=4096, bias=True)\n",
       "  (convt1): ConvTranspose2d(64, 64, kernel_size=(4, 4), stride=(2, 2), padding=(1, 1))\n",
       "  (convt2): ConvTranspose2d(64, 64, kernel_size=(4, 4), stride=(2, 2), padding=(1, 1))\n",
       "  (relu): ReLU()\n",
       "  (conv2d): Conv2d(64, 3, kernel_size=(3, 3), stride=(1, 1), padding=(1, 1))\n",
       "  (tanh): Tanh()\n",
       ")"
      ]
     },
     "execution_count": 10,
     "metadata": {},
     "output_type": "execute_result"
    }
   ],
   "source": [
    "latent_size = 64\n",
    "class GeneratorModel(nn.Module):\n",
    "    def __init__(self):\n",
    "        super().__init__()\n",
    "        self.linear1=nn.Linear(64,256*4*4)\n",
    "        self.convt1 = nn.ConvTranspose2d(64, 64, kernel_size=4, stride=2, padding=1)\n",
    "        self.convt2 = nn.ConvTranspose2d(64,64,kernel_size=4, stride=2, padding=1)\n",
    "        self.relu = nn.ReLU()\n",
    "        self.conv2d = nn.Conv2d(64,3, kernel_size=3, padding = 1)\n",
    "        self.tanh = nn.Tanh()\n",
    "    def forward(self, xb):\n",
    "        out = self.linear1(xb)\n",
    "\n",
    "        out = self.relu(out)\n",
    "        out = out.reshape(-1,64,8,8)\n",
    "        out = self.convt1(out)\n",
    "        out = self.relu(out)\n",
    "        out = self.convt2(out)\n",
    "        out = self.relu(out)\n",
    "        out = self.convt2(out)\n",
    "        out = self.relu(out)\n",
    "        out = self.convt2(out)\n",
    "        out = self.relu(out)        \n",
    "        \n",
    "        out = self.conv2d(out)\n",
    "        \n",
    "        \n",
    "        out = self.tanh(out)\n",
    "\n",
    "\n",
    "        return out \n",
    "    \n",
    "        \n",
    "\n",
    "\n",
    "G = GeneratorModel()\n",
    "G.to(device)"
   ]
  },
  {
   "cell_type": "code",
   "execution_count": 11,
   "metadata": {},
   "outputs": [
    {
     "name": "stdout",
     "output_type": "stream",
     "text": [
      "----------------------------------------------------------------\n",
      "        Layer (type)               Output Shape         Param #\n",
      "================================================================\n",
      "            Linear-1              [-1, 1, 4096]         266,240\n",
      "              ReLU-2              [-1, 1, 4096]               0\n",
      "   ConvTranspose2d-3           [-1, 64, 16, 16]          65,600\n",
      "              ReLU-4           [-1, 64, 16, 16]               0\n",
      "   ConvTranspose2d-5           [-1, 64, 32, 32]          65,600\n",
      "              ReLU-6           [-1, 64, 32, 32]               0\n",
      "   ConvTranspose2d-7           [-1, 64, 64, 64]          65,600\n",
      "              ReLU-8           [-1, 64, 64, 64]               0\n",
      "   ConvTranspose2d-9         [-1, 64, 128, 128]          65,600\n",
      "             ReLU-10         [-1, 64, 128, 128]               0\n",
      "           Conv2d-11          [-1, 3, 128, 128]           1,731\n",
      "             Tanh-12          [-1, 3, 128, 128]               0\n",
      "================================================================\n",
      "Total params: 530,371\n",
      "Trainable params: 530,371\n",
      "Non-trainable params: 0\n",
      "----------------------------------------------------------------\n",
      "Input size (MB): 0.00\n",
      "Forward/backward pass size (MB): 22.06\n",
      "Params size (MB): 2.02\n",
      "Estimated Total Size (MB): 24.09\n",
      "----------------------------------------------------------------\n"
     ]
    }
   ],
   "source": [
    "summary(G,input_size=(1,64))"
   ]
  },
  {
   "cell_type": "markdown",
   "metadata": {},
   "source": [
    "## Lets try to generate a set of images. \n"
   ]
  },
  {
   "cell_type": "code",
   "execution_count": 12,
   "metadata": {},
   "outputs": [
    {
     "data": {
      "text/plain": [
       "torch.Size([1, 3, 128, 128])"
      ]
     },
     "execution_count": 12,
     "metadata": {},
     "output_type": "execute_result"
    }
   ],
   "source": [
    "y = G(torch.randn(1,64).to(device))\n",
    "y.shape"
   ]
  },
  {
   "cell_type": "code",
   "execution_count": 13,
   "metadata": {},
   "outputs": [
    {
     "name": "stdout",
     "output_type": "stream",
     "text": [
      "torch.Size([1, 3, 128, 128])\n"
     ]
    },
    {
     "data": {
      "text/plain": [
       "<matplotlib.image.AxesImage at 0x22189531e80>"
      ]
     },
     "execution_count": 13,
     "metadata": {},
     "output_type": "execute_result"
    },
    {
     "data": {
      "image/png": "[encoded data removed]",
      "text/plain": [
       "<Figure size 432x288 with 1 Axes>"
      ]
     },
     "metadata": {},
     "output_type": "display_data"
    }
   ],
   "source": [
    "print(y.shape)\n",
    "gen_imgs = denorm(y.squeeze(0).detach().cpu())\n",
    "plt.imshow(gen_imgs.permute(1,2,0))"
   ]
  },
  {
   "cell_type": "markdown",
   "metadata": {},
   "source": [
    "## Discriminatyor Training \n",
    "The discriminator is a binary classification model, we can use the binary crossentropy to use as a loss function. \n",
    "* If the image is real and you predict a high probability then you get a low loss! \n",
    "\n",
    "In this case we are not interested in what the digit contains. We are interested in whether it is real or fake. so labels for real images are all ones, and fake images are all 0s. we do a batch of real then a batch of fake ones.\n",
    "\n",
    "`train_discriminator` does one step of training the discriminator, on a batch of images. "
   ]
  },
  {
   "cell_type": "code",
   "execution_count": 14,
   "metadata": {},
   "outputs": [],
   "source": [
    "criterion = nn.BCELoss()\n",
    "d_opt = torch.optim.Adam(D.parameters(), lr = 0.0002)\n",
    "g_opt = torch.optim.Adam(G.parameters(), lr = 0.0002)"
   ]
  },
  {
   "cell_type": "code",
   "execution_count": 15,
   "metadata": {},
   "outputs": [],
   "source": [
    "def reset_grad():\n",
    "    d_opt.zero_grad()\n",
    "    g_opt.zero_grad()\n",
    "\n",
    "def train_discriminator(images):\n",
    "    # Create the labels which are later used as input for the BCE loss\n",
    "    \n",
    "    real_labels = torch.ones(images.shape[0], 1).to(device)\n",
    "    fake_labels = torch.zeros(images.shape[0], 1).to(device)\n",
    "    \n",
    "    # loss for real images \n",
    "    outputs = D(images)\n",
    "    d_loss_real = criterion(outputs, real_labels)  # We expect the discriminator to output 1s\n",
    "    real_score = outputs   # These are the probabilities\n",
    "    \n",
    "    # loss for fakeimages \n",
    "    z = torch.randn(batch_size, latent_size).to(device)  # We generate 100  latent vectors and move them to device\n",
    "    fake_images = G(z)     # When we put the latent vectors into the generator, we get 100 fake images\n",
    "    outputs = D(fake_images)   # The discriminator will hopefully think they are 0 \n",
    "    d_loss_fake = criterion(outputs, fake_labels)\n",
    "    fake_score = outputs\n",
    "    # Combine the losses \n",
    "    d_loss = d_loss_real+ d_loss_fake\n",
    "    \n",
    "    reset_grad()\n",
    "    \n",
    "    d_loss.backward()\n",
    "    d_opt.step()\n",
    "    \n",
    "    return d_loss, real_score, fake_score\n",
    "    \n",
    "    \n",
    "    \n",
    "    "
   ]
  },
  {
   "cell_type": "markdown",
   "metadata": {},
   "source": [
    "## Generator training\n",
    "\n",
    "Since the output of the generators are vectors, which can be transformed to images, it is not obvious how we can train the generator. This is where we implement a very elegant **trick**. We do know the output images are generated or fake, we can pass them into the discriminator, and compare the output of the discriminator with the ground truth (i.e. all fake). We can then use this to calculate the loss for the genrator. \n",
    "\n",
    "We use the discriminator as part of the loss function.\n",
    "\n",
    "We wish the discriminator to think all of the generated images are real, so labels of `[1,1,1,1,1...]` is desired. So, the loss function should be the cross entropy between the output and the desired labels, which is a list of ones."
   ]
  },
  {
   "cell_type": "code",
   "execution_count": null,
   "metadata": {},
   "outputs": [],
   "source": []
  },
  {
   "cell_type": "code",
   "execution_count": 16,
   "metadata": {},
   "outputs": [
    {
     "data": {
      "text/plain": [
       "tensor([[0.5093],\n",
       "        [0.5093],\n",
       "        [0.5093],\n",
       "        [0.5093],\n",
       "        [0.5093],\n",
       "        [0.5093],\n",
       "        [0.5093],\n",
       "        [0.5093],\n",
       "        [0.5093],\n",
       "        [0.5093],\n",
       "        [0.5093],\n",
       "        [0.5093],\n",
       "        [0.5093],\n",
       "        [0.5093],\n",
       "        [0.5093],\n",
       "        [0.5093],\n",
       "        [0.5093],\n",
       "        [0.5093],\n",
       "        [0.5093],\n",
       "        [0.5093],\n",
       "        [0.5093],\n",
       "        [0.5093],\n",
       "        [0.5093],\n",
       "        [0.5093],\n",
       "        [0.5093],\n",
       "        [0.5093],\n",
       "        [0.5093],\n",
       "        [0.5093],\n",
       "        [0.5093],\n",
       "        [0.5093]], device='cuda:0', grad_fn=<SigmoidBackward>)"
      ]
     },
     "execution_count": 16,
     "metadata": {},
     "output_type": "execute_result"
    }
   ],
   "source": [
    "z = torch.randn(batch_size, latent_size).to(device)\n",
    "fake_images = G(z)\n",
    "D(fake_images)"
   ]
  },
  {
   "cell_type": "code",
   "execution_count": 17,
   "metadata": {},
   "outputs": [],
   "source": [
    "def train_generator():\n",
    "    z = torch.randn(batch_size, latent_size).to(device)\n",
    "    fake_images = G(z)\n",
    "    labels = torch.ones(batch_size,1).to(device)\n",
    "    g_loss = criterion(D(fake_images),labels) # This is the binary cross entropy. We wish the discriminator to be fooled\n",
    "    \n",
    "    # backprop and optimize\n",
    "    \n",
    "    reset_grad()\n",
    "    g_loss.backward()\n",
    "    g_opt.step()\n",
    "    return g_loss, fake_images"
   ]
  },
  {
   "cell_type": "markdown",
   "metadata": {},
   "source": [
    "## Training! \n",
    "\n",
    "create the directory where we can save intermediate outputs to visually inspect the progress of the model \n",
    "\n"
   ]
  },
  {
   "cell_type": "code",
   "execution_count": 18,
   "metadata": {},
   "outputs": [],
   "source": [
    "import os \n",
    "sample_dir = 'fruitsamples'\n",
    "if not os.path.exists(sample_dir):\n",
    "    os.makedirs(sample_dir)\n",
    "    "
   ]
  },
  {
   "cell_type": "code",
   "execution_count": 19,
   "metadata": {},
   "outputs": [],
   "source": [
    "from IPython.display import Image\n",
    "from torchvision.utils import save_image\n",
    "\n",
    "for images, _ in data_loader:\n",
    "    images = images.reshape(images.size(0),3,128,128)\n",
    "    save_image(denorm(images), os.path.join(sample_dir, 'real_images.png'))\n",
    "    break"
   ]
  },
  {
   "cell_type": "markdown",
   "metadata": {},
   "source": [
    "### Visualising the generated images before it is trained. "
   ]
  },
  {
   "cell_type": "code",
   "execution_count": 20,
   "metadata": {},
   "outputs": [
    {
     "name": "stdout",
     "output_type": "stream",
     "text": [
      "30 64\n",
      "Saving fake_images-0002.png\n"
     ]
    }
   ],
   "source": [
    "G.load_state_dict(torch.load(\"gan_cnn1G.pth\"))\n",
    "D.load_state_dict(torch.load(\"gan_cnn1D.pth\"))\n",
    "\n",
    "sample_vectors = torch.randn(batch_size, latent_size).to(device)\n",
    "print(batch_size, latent_size)\n",
    "torch.cuda.empty_cache()\n",
    "def save_fake_images(index):\n",
    "    fake_images = G(sample_vectors)\n",
    "    fake_images = fake_images.reshape(fake_images.size(0),3,128,128)\n",
    "    fake_fname= 'fake_images-{0:0=4d}.png'.format(index)\n",
    "    print('Saving', fake_fname)\n",
    "    save_image(denorm(fake_images), os.path.join(sample_dir, fake_fname), nrow=5)\n",
    "save_fake_images(2)\n",
    "Image(os.path.join(sample_dir,'fake_images-0000.png'))\n",
    "del fake_images\n"
   ]
  },
  {
   "cell_type": "code",
   "execution_count": 21,
   "metadata": {},
   "outputs": [],
   "source": [
    "def find_current_ite():\n",
    "    current_ite = os.listdir(sample_dir)\n",
    "    current_ite = [int(x[-8:-4]) for x in current_ite if \"fake_images\" in x]\n",
    "    current_ite = max(current_ite)\n",
    "    return current_ite"
   ]
  },
  {
   "cell_type": "code",
   "execution_count": 24,
   "metadata": {
    "scrolled": true
   },
   "outputs": [
    {
     "name": "stdout",
     "output_type": "stream",
     "text": [
      "30\n",
      "Epoch 1 / 3, step 200/2256, d_loss: 0.0000, g_loss: 13.2829, D(x): 1.00, D(g(z)): 0.00\n",
      "Saving fake_images-0036.png\n",
      "Epoch 1 / 3, step 400/2256, d_loss: 0.0000, g_loss: 13.3552, D(x): 1.00, D(g(z)): 0.00\n",
      "Saving fake_images-0037.png\n",
      "Epoch 1 / 3, step 600/2256, d_loss: 0.0000, g_loss: 12.8770, D(x): 1.00, D(g(z)): 0.00\n",
      "Saving fake_images-0038.png\n",
      "Epoch 1 / 3, step 800/2256, d_loss: 0.0000, g_loss: 13.1386, D(x): 1.00, D(g(z)): 0.00\n",
      "Saving fake_images-0039.png\n",
      "Epoch 1 / 3, step 1000/2256, d_loss: 0.0000, g_loss: 13.0953, D(x): 1.00, D(g(z)): 0.00\n",
      "Saving fake_images-0040.png\n",
      "Epoch 1 / 3, step 1200/2256, d_loss: 0.0000, g_loss: 13.4051, D(x): 1.00, D(g(z)): 0.00\n",
      "Saving fake_images-0041.png\n",
      "Epoch 1 / 3, step 1400/2256, d_loss: 0.0000, g_loss: 13.8196, D(x): 1.00, D(g(z)): 0.00\n",
      "Saving fake_images-0042.png\n",
      "Epoch 1 / 3, step 1600/2256, d_loss: 0.0000, g_loss: 14.0797, D(x): 1.00, D(g(z)): 0.00\n",
      "Saving fake_images-0043.png\n",
      "Epoch 1 / 3, step 1800/2256, d_loss: 0.0000, g_loss: 13.6104, D(x): 1.00, D(g(z)): 0.00\n",
      "Saving fake_images-0044.png\n",
      "Epoch 1 / 3, step 2000/2256, d_loss: 0.0000, g_loss: 13.8393, D(x): 1.00, D(g(z)): 0.00\n",
      "Saving fake_images-0045.png\n",
      "Epoch 1 / 3, step 2200/2256, d_loss: 0.0000, g_loss: 14.1247, D(x): 1.00, D(g(z)): 0.00\n",
      "Saving fake_images-0046.png\n",
      "Epoch 2 / 3, step 200/2256, d_loss: 0.0000, g_loss: 13.7597, D(x): 1.00, D(g(z)): 0.00\n",
      "Saving fake_images-0047.png\n",
      "Epoch 2 / 3, step 400/2256, d_loss: 0.0000, g_loss: 14.2103, D(x): 1.00, D(g(z)): 0.00\n",
      "Saving fake_images-0048.png\n",
      "Epoch 2 / 3, step 600/2256, d_loss: 0.0000, g_loss: 14.6089, D(x): 1.00, D(g(z)): 0.00\n",
      "Saving fake_images-0049.png\n",
      "Epoch 2 / 3, step 800/2256, d_loss: 0.0000, g_loss: 14.6243, D(x): 1.00, D(g(z)): 0.00\n",
      "Saving fake_images-0050.png\n",
      "Epoch 2 / 3, step 1000/2256, d_loss: 0.0000, g_loss: 15.0893, D(x): 1.00, D(g(z)): 0.00\n",
      "Saving fake_images-0051.png\n",
      "Epoch 2 / 3, step 1200/2256, d_loss: 0.0000, g_loss: 15.1006, D(x): 1.00, D(g(z)): 0.00\n",
      "Saving fake_images-0052.png\n",
      "Epoch 2 / 3, step 1400/2256, d_loss: 0.0000, g_loss: 15.4183, D(x): 1.00, D(g(z)): 0.00\n",
      "Saving fake_images-0053.png\n",
      "Epoch 2 / 3, step 1600/2256, d_loss: 0.0000, g_loss: 14.8882, D(x): 1.00, D(g(z)): 0.00\n",
      "Saving fake_images-0054.png\n",
      "Epoch 2 / 3, step 1800/2256, d_loss: 0.0000, g_loss: 15.6800, D(x): 1.00, D(g(z)): 0.00\n",
      "Saving fake_images-0055.png\n",
      "Epoch 2 / 3, step 2000/2256, d_loss: 0.0000, g_loss: 15.5933, D(x): 1.00, D(g(z)): 0.00\n",
      "Saving fake_images-0056.png\n",
      "Epoch 2 / 3, step 2200/2256, d_loss: 0.0000, g_loss: 15.9298, D(x): 1.00, D(g(z)): 0.00\n",
      "Saving fake_images-0057.png\n",
      "Epoch 3 / 3, step 200/2256, d_loss: 0.0000, g_loss: 15.5260, D(x): 1.00, D(g(z)): 0.00\n",
      "Saving fake_images-0058.png\n",
      "Epoch 3 / 3, step 400/2256, d_loss: 0.0000, g_loss: 16.1973, D(x): 1.00, D(g(z)): 0.00\n",
      "Saving fake_images-0059.png\n",
      "Epoch 3 / 3, step 600/2256, d_loss: 0.0000, g_loss: 16.2729, D(x): 1.00, D(g(z)): 0.00\n",
      "Saving fake_images-0060.png\n",
      "Epoch 3 / 3, step 800/2256, d_loss: 0.0000, g_loss: 16.4696, D(x): 1.00, D(g(z)): 0.00\n",
      "Saving fake_images-0061.png\n",
      "Epoch 3 / 3, step 1000/2256, d_loss: 0.0000, g_loss: 16.7486, D(x): 1.00, D(g(z)): 0.00\n",
      "Saving fake_images-0062.png\n",
      "Epoch 3 / 3, step 1200/2256, d_loss: 0.0000, g_loss: 16.8338, D(x): 1.00, D(g(z)): 0.00\n",
      "Saving fake_images-0063.png\n",
      "Epoch 3 / 3, step 1400/2256, d_loss: 0.0000, g_loss: 16.9572, D(x): 1.00, D(g(z)): 0.00\n",
      "Saving fake_images-0064.png\n",
      "Epoch 3 / 3, step 1600/2256, d_loss: 0.0000, g_loss: 17.1109, D(x): 1.00, D(g(z)): 0.00\n",
      "Saving fake_images-0065.png\n",
      "Epoch 3 / 3, step 1800/2256, d_loss: 0.0000, g_loss: 17.3398, D(x): 1.00, D(g(z)): 0.00\n",
      "Saving fake_images-0066.png\n",
      "Epoch 3 / 3, step 2000/2256, d_loss: 0.0000, g_loss: 17.3571, D(x): 1.00, D(g(z)): 0.00\n",
      "Saving fake_images-0067.png\n",
      "Epoch 3 / 3, step 2200/2256, d_loss: 0.0000, g_loss: 17.7960, D(x): 1.00, D(g(z)): 0.00\n",
      "Saving fake_images-0068.png\n"
     ]
    }
   ],
   "source": [
    "from tqdm import tqdm\n",
    "num_epochs = 3\n",
    "total_step = len(data_loader)\n",
    "current = find_current_ite()\n",
    "print(batch_size)\n",
    "from tqdm import tqdm \n",
    "torch.cuda.empty_cache()\n",
    "d_losses, g_losses, real_scores, fake_scores = [],[],[],[]\n",
    "counter = 1\n",
    "for epoch in range(num_epochs):\n",
    "    for i, (images, _) in enumerate(data_loader):\n",
    "        # load a batch and transform to vectors \n",
    "        images = images.to(device)\n",
    "        d_loss, real_score, fake_score = train_discriminator(images)\n",
    "        g_loss, fake_images = train_generator()\n",
    "        \n",
    "        # inspect the losses \n",
    "        if (i+1) %200 ==0:\n",
    "            d_losses.append(d_loss.item())\n",
    "            g_losses.append(g_loss.item())\n",
    "            real_scores.append(real_score.mean().item())\n",
    "            fake_scores.append(fake_score.mean().item())\n",
    "            print(\"Epoch %d / %d, step %d/%d, d_loss: %.4f, g_loss: %.4f, D(x): %.2f, D(g(z)): %.2f\" %(epoch+1, num_epochs, i+1, total_step, \n",
    "                                                                                     d_loss, g_loss, real_score.mean(),\n",
    "                                                                                                      fake_score.mean()))\n",
    "            save_fake_images(counter+current)\n",
    "            counter+=1"
   ]
  },
  {
   "cell_type": "code",
   "execution_count": null,
   "metadata": {},
   "outputs": [],
   "source": [
    "torch.save(D.state_dict(), \"gan_cnn1D.pth\")\n",
    "torch.save(G.state_dict(), 'gan_cnn1G.pth')"
   ]
  },
  {
   "cell_type": "markdown",
   "metadata": {},
   "source": [
    "## Visualising the results \n",
    "\n",
    "It will be nice to actually visualise the progress using a video. "
   ]
  },
  {
   "cell_type": "code",
   "execution_count": null,
   "metadata": {},
   "outputs": [],
   "source": [
    "import cv2 \n",
    "import os \n",
    "from IPython.display.display import FileLink\n",
    "vid_fname = 'gans_training.avi'\n",
    "files = [os.path.join(sample_dir, f) for f in os.listdir(sample_dir) if 'fake_images' in f]\n",
    "files.sort()\n",
    "out = cv2.VideoWriter(vid_fname, cv2.VideoWriter_fourcc(*'MP4V'), 8, (782,652))  # 8 images per second. (302,302) is the combined size of the images\n",
    "[out.write(cv2.imread(fname)) for fname in files]\n",
    "out.release()\n",
    "FileLink('gans_training.avi')\n"
   ]
  },
  {
   "cell_type": "code",
   "execution_count": 37,
   "metadata": {},
   "outputs": [
    {
     "name": "stderr",
     "output_type": "stream",
     "text": [
      "\n",
      "  0%|                                                                                          | 0/133 [00:00<?, ?it/s]\u001b[A\n"
     ]
    },
    {
     "ename": "TypeError",
     "evalue": "unsupported operand type(s) for &: 'str' and 'int'",
     "output_type": "error",
     "traceback": [
      "\u001b[1;31m---------------------------------------------------------------------------\u001b[0m",
      "\u001b[1;31mTypeError\u001b[0m                                 Traceback (most recent call last)",
      "\u001b[1;32m<ipython-input-37-ea9ba0680ea7>\u001b[0m in \u001b[0;36m<module>\u001b[1;34m()\u001b[0m\n\u001b[0;32m      7\u001b[0m \u001b[0mall_dir\u001b[0m \u001b[1;33m=\u001b[0m \u001b[0mdata_dir\u001b[0m\u001b[1;33m+\u001b[0m\u001b[1;34m\"/all\"\u001b[0m\u001b[1;33m\u001b[0m\u001b[0m\n\u001b[0;32m      8\u001b[0m \u001b[1;32mfor\u001b[0m \u001b[0mi\u001b[0m\u001b[1;33m,\u001b[0m\u001b[0md\u001b[0m \u001b[1;32min\u001b[0m \u001b[0menumerate\u001b[0m\u001b[1;33m(\u001b[0m\u001b[0mtqdm\u001b[0m\u001b[1;33m(\u001b[0m\u001b[0mos\u001b[0m\u001b[1;33m.\u001b[0m\u001b[0mlistdir\u001b[0m\u001b[1;33m(\u001b[0m\u001b[0mdata_dir\u001b[0m\u001b[1;33m)\u001b[0m\u001b[1;33m)\u001b[0m\u001b[1;33m)\u001b[0m\u001b[1;33m:\u001b[0m\u001b[1;33m\u001b[0m\u001b[0m\n\u001b[1;32m----> 9\u001b[1;33m     \u001b[1;32mif\u001b[0m \u001b[0md\u001b[0m \u001b[1;33m!=\u001b[0m \u001b[1;34m\"all\"\u001b[0m \u001b[1;33m&\u001b[0m \u001b[0mi\u001b[0m \u001b[1;33m%\u001b[0m\u001b[1;36m3\u001b[0m \u001b[1;33m==\u001b[0m\u001b[1;36m0\u001b[0m\u001b[1;33m:\u001b[0m\u001b[1;33m\u001b[0m\u001b[0m\n\u001b[0m\u001b[0;32m     10\u001b[0m         \u001b[0mfruitdir\u001b[0m \u001b[1;33m=\u001b[0m \u001b[0mdata_dir\u001b[0m\u001b[1;33m+\u001b[0m\u001b[1;34m\"/\"\u001b[0m\u001b[1;33m+\u001b[0m\u001b[0md\u001b[0m\u001b[1;33m\u001b[0m\u001b[0m\n\u001b[0;32m     11\u001b[0m         \u001b[0mimgs\u001b[0m \u001b[1;33m=\u001b[0m \u001b[0mos\u001b[0m\u001b[1;33m.\u001b[0m\u001b[0mlistdir\u001b[0m\u001b[1;33m(\u001b[0m\u001b[0mdata_dir\u001b[0m\u001b[1;33m+\u001b[0m\u001b[1;34m\"/\"\u001b[0m\u001b[1;33m+\u001b[0m\u001b[0md\u001b[0m\u001b[1;33m)\u001b[0m\u001b[1;33m\u001b[0m\u001b[0m\n",
      "\u001b[1;31mTypeError\u001b[0m: unsupported operand type(s) for &: 'str' and 'int'"
     ]
    }
   ],
   "source": [
    "#print(os.listdir(data_dir))\n",
    "import shutil\n",
    "import datetime\n",
    "\n",
    "\n",
    "#os.mkdir(data_dir+\"/all\")\n",
    "all_dir = data_dir+\"/all\"\n",
    "for d in tqdm(os.listdir(data_dir)):\n",
    "    if d != \"all\":\n",
    "        fruitdir = data_dir+\"/\"+d\n",
    "        imgs = os.listdir(data_dir+\"/\"+d)\n",
    "        for img in imgs:\n",
    "            imgdir = fruitdir+\"/\"+img\n",
    "            now = str(datetime.datetime.now())[:19]\n",
    "            now = now.replace(\":\",\"_\")\n",
    "            newdir = all_dir +\"/\"+ str(np.random.randint(10000000)) +\".jpg\"\n",
    "            shutil.copy(imgdir,newdir)\n"
   ]
  },
  {
   "cell_type": "code",
   "execution_count": null,
   "metadata": {},
   "outputs": [],
   "source": []
  }
 ],
 "metadata": {
  "kernelspec": {
   "display_name": "Python 3",
   "language": "python",
   "name": "python3"
  },
  "language_info": {
   "codemirror_mode": {
    "name": "ipython",
    "version": 3
   },
   "file_extension": ".py",
   "mimetype": "text/x-python",
   "name": "python",
   "nbconvert_exporter": "python",
   "pygments_lexer": "ipython3",
   "version": "3.6.6"
  }
 },
 "nbformat": 4,
 "nbformat_minor": 2
}
