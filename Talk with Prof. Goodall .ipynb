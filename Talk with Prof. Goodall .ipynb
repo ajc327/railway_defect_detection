{
 "cells": [
  {
   "cell_type": "markdown",
   "metadata": {},
   "source": [
    "## Questions to ask \n",
    "\n",
    "send him a summary of this - cut down to 2 or 3 \n",
    "ask him more about what he has done, not to ask him to critique what i have done \n",
    "more about him asking himself \n",
    "\n",
    "\n",
    "\n",
    "1. Point in Condition monitoring using train mounted sensors paper - Are there any studies on the detection of voids using the accelerometer? ** \n",
    "\n",
    "2. Has he done any related work for voids? x\n",
    "\n",
    "3. Comments on the approach? x - won't be interested \n",
    "\n",
    "4. Do you have any suggestions on things that we could try given that we have a mechanical model from previous work? x \n",
    "\n",
    "5. Can noise be removed more effectively? in the contact force paper he mentioned combining the readings of multiple sensors? \n",
    "\n",
    "6. Instantaneous speed estimation - Using cross correlation - can this be applied to audio signal? would a squared error be suitable for spectrograms from different time frames work? \n",
    "\n",
    "7. Why do you think there exists very little machine learning / data driven defect detection studies? For example, bad joints, voids and corrugation.\n",
    "\n",
    "8. If you would to do this problem, what would likely be your approach? \n",
    "\n",
    "9. "
   ]
  },
  {
   "cell_type": "code",
   "execution_count": null,
   "metadata": {},
   "outputs": [],
   "source": []
  },
  {
   "cell_type": "code",
   "execution_count": null,
   "metadata": {},
   "outputs": [],
   "source": []
  },
  {
   "cell_type": "code",
   "execution_count": null,
   "metadata": {},
   "outputs": [],
   "source": []
  },
  {
   "cell_type": "code",
   "execution_count": null,
   "metadata": {},
   "outputs": [],
   "source": []
  },
  {
   "cell_type": "markdown",
   "metadata": {},
   "source": [
    "1.\tIn your 2010 Condition monitoring opportunities using vehicle-based sensors paper, there was mentions of short wavelength defect such as voids being detected by axle mounted vertical accelerometers. Have you done any work on this and are there good papers form others regarding this that you think is worth reading? \n",
    "\n",
    "\n",
    "japanese guy\n",
    "\n",
    "\n",
    "railway strategy document -late 2000s \n",
    "\n",
    "\n",
    "\n",
    "\n",
    "\n",
    "using measuremetn trains better \n",
    "\n",
    "\n",
    "conflict between train operators and infrastructure \n",
    "\n",
    "\n",
    "2.\tHave you developed some of your research results in condition monitoring into working systems? What do you think the challenges are associated with building a low-cost vehicle-based sensor monitoring system and having companies like Network Rail to use them in their operating trains? \n",
    "john andrews - operation level nottingha,\n",
    "\n",
    "\n",
    "\n",
    "\n",
    "3.\tIn your creep force estimation related work (Contact force estimation in the railway vehicle wheel-rail interface), it was mentioned that this can be used to predict wheel/track wear and contact fatigue by fitting the system to a wide network of operating trains. How might this be achieved and what kind of statistical/processing methods would you use?\n"
   ]
  },
  {
   "cell_type": "code",
   "execution_count": null,
   "metadata": {},
   "outputs": [],
   "source": []
  },
  {
   "cell_type": "code",
   "execution_count": null,
   "metadata": {},
   "outputs": [],
   "source": []
  },
  {
   "cell_type": "code",
   "execution_count": null,
   "metadata": {},
   "outputs": [],
   "source": []
  },
  {
   "cell_type": "code",
   "execution_count": null,
   "metadata": {},
   "outputs": [],
   "source": []
  },
  {
   "cell_type": "code",
   "execution_count": null,
   "metadata": {},
   "outputs": [],
   "source": []
  }
 ],
 "metadata": {
  "kernelspec": {
   "display_name": "Python 3",
   "language": "python",
   "name": "python3"
  },
  "language_info": {
   "codemirror_mode": {
    "name": "ipython",
    "version": 3
   },
   "file_extension": ".py",
   "mimetype": "text/x-python",
   "name": "python",
   "nbconvert_exporter": "python",
   "pygments_lexer": "ipython3",
   "version": "3.6.6"
  }
 },
 "nbformat": 4,
 "nbformat_minor": 2
}
